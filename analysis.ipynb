{
 "cells": [
  {
   "cell_type": "code",
   "execution_count": null,
   "id": "c4f5d68f",
   "metadata": {},
   "outputs": [],
   "source": [
    "import pandas as pd\n",
    "import matplotlib.pyplot as plt\n",
    "\n",
    "# Load survey data\n",
    "df = pd.read_csv(\"survey_responses.csv\")\n",
    "\n",
    "# Basic stats\n",
    "print(\"Dataset shape:\", df.shape)\n",
    "print(df.describe())\n",
    "\n",
    "# Example plot\n",
    "plt.figure(figsize=(6,4))\n",
    "df['age'].hist(bins=10)\n",
    "plt.title(\"Age Distribution of Respondents\")\n",
    "plt.xlabel(\"Age\")\n",
    "plt.ylabel(\"Frequency\")\n",
    "plt.show()\n"
   ]
  }
 ],
 "metadata": {},
 "nbformat": 4,
 "nbformat_minor": 5
}
