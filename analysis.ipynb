{
 "cells": [
  {
   "cell_type": "markdown",
   "metadata": {},
   "source": [
    "# Beats by Dre Survey Analysis\n",
    "\n",
    "This notebook analyzes survey data collected for Beats by Dre. It includes data cleaning, descriptive statistics, and visualizations to understand consumer insights."
   ]
  },
  {
   "cell_type": "code",
   "metadata": {},
   "source": [
    "import pandas as pd\n",
    "import matplotlib.pyplot as plt\n",
    "import seaborn as sns\n",
    "import numpy as np\n",
    "\n",
    "# Load dataset\n",
    "df = pd.read_csv(\"survey_responses.csv\")\n",
    "df.head()"
   ]
  },
  {
   "cell_type": "markdown",
   "metadata": {},
   "source": [
    "## Data Cleaning & Formatting"
   ]
  },
  {
   "cell_type": "code",
   "metadata": {},
   "source": [
    "# Check missing values\n",
    "print(df.isna().sum())\n",
    "\n",
    "# Example: fill missing ages with median\n",
    "if 'age' in df.columns:\n",
    "    df['age'] = df['age'].fillna(df['age'].median())\n",
    "\n",
    "# Convert categorical columns to category type\n",
    "categorical_cols = df.select_dtypes(include='object').columns\n",
    "for col in categorical_cols:\n",
    "    df[col] = df[col].astype('category')\n",
    "\n",
    "df.info()"
   ]
  },
  {
   "cell_type": "markdown",
   "metadata": {},
   "source": [
    "## Descriptive Statistics"
   ]
  },
  {
   "cell_type": "code",
   "metadata": {},
   "source": [
    "print(\"Dataset shape:\", df.shape)\n",
    "df.describe(include='all')"
   ]
  },
  {
   "cell_type": "markdown",
   "metadata": {},
   "source": [
    "## Visualizations"
   ]
  },
  {
   "cell_type": "code",
   "metadata": {},
   "source": [
    "# Age distribution\n",
    "if 'age' in df.columns:\n",
    "    plt.figure(figsize=(6,4))\n",
    "    df['age'].hist(bins=10, color='skyblue', edgecolor='black')\n",
    "    plt.title(\"Age Distribution of Respondents\")\n",
    "    plt.xlabel(\"Age\")\n",
    "    plt.ylabel(\"Frequency\")\n",
    "    plt.show()"
   ]
  },
  {
   "cell_type": "code",
   "metadata": {},
   "source": [
    "# Example: distribution of purchase channels\n",
    "if 'purchase_channel' in df.columns:\n",
    "    plt.figure(figsize=(6,4))\n",
    "    sns.countplot(x='purchase_channel', data=df, palette='Set2')\n",
    "    plt.title(\"Preferred Purchase Channels\")\n",
    "    plt.xlabel(\"Channel\")\n",
    "    plt.ylabel(\"Count\")\n",
    "    plt.show()"
   ]
  },
  {
   "cell_type": "code",
   "metadata": {},
   "source": [
    "# Example: brand perception\n",
    "if 'brand_perception' in df.columns:\n",
    "    plt.figure(figsize=(6,4))\n",
    "    sns.countplot(x='brand_perception', data=df, palette='Set3')\n",
    "    plt.title(\"Brand Perception\")\n",
    "    plt.xlabel(\"Perception\")\n",
    "    plt.ylabel(\"Count\")\n",
    "    plt.show()"
   ]
  },
  {
   "cell_type": "markdown",
   "metadata": {},
   "source": [
    "## Quick Insights\n",
    "\n",
    "- Age distribution shows ...\n",
    "- Most respondents prefer ...\n",
    "- Brand perception highlights ...\n",
    "\n",
    "(You can expand these with actual insights after running the notebook.)"
   ]
  }
 ],
 "metadata": {
  "kernelspec": {
   "display_name": "Python 3",
   "language": "python",
   "name": "python3"
  },
  "language_info": {
   "name": "python",
   "version": "3.10"
  }
 },
 "nbformat": 4,
 "nbformat_minor": 5
}
